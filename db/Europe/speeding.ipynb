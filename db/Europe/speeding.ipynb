{
 "cells": [
  {
   "attachments": {},
   "cell_type": "markdown",
   "metadata": {},
   "source": [
    "# Speed limits and fines for speeding\n",
    "\n",
    "https://speedingeurope.com/\n",
    "\n",
    "https://speedingeurope.com/theburger/"
   ]
  },
  {
   "cell_type": "code",
   "execution_count": 1,
   "metadata": {},
   "outputs": [],
   "source": [
    "import pandas as pd\n",
    "import numpy as np"
   ]
  },
  {
   "cell_type": "code",
   "execution_count": 10,
   "metadata": {},
   "outputs": [],
   "source": [
    "speedLimitData = pd.DataFrame(\n",
    "    columns=[\"Country\", \"speed_city\", \"speed_rural\", \"speed_highway\"],\n",
    "    data = [\n",
    "        [\"Albania\", 40, 80, 110],\n",
    "        [\"Austria\", 50, 100, 130],\n",
    "        [\"Belgium\", 50, 70, 120],\n",
    "        [\"Croatia\", 50, 90, 130],\n",
    "        [\"Czech Republic\", 50, 90, 130],\n",
    "        [\"Denmark\", 50, 80, 130],\n",
    "        [\"Estonia\", 50, 90, np.nan],\n",
    "        [\"Finland\", 50, 100, 120],\n",
    "        [\"France\", 50, 80, 130],\n",
    "        [\"Germany\", 50, 100, 130],\n",
    "        [\"Greece\", 50, 90, 130],\n",
    "        [\"Hungary\", 50, 80, 120],\n",
    "        [\"Ireland\", 50, 80, 120],\n",
    "        [\"Italy\", 50, 90, 130],\n",
    "        [\"Kosovo\", 50, 80, 110],\n",
    "        [\"Latvia\", 20, 50, 90],\n",
    "        [\"Lithuania\", 50, 90, 130],\n",
    "        [\"Luxembourg\", 50, 90, 130],\n",
    "        [\"Netherlands\", 50, 80, 120],\n",
    "        [\"Norway\", 50, 80, 110],\n",
    "        [\"Poland\", 50, 90, 140],\n",
    "        [\"Portugal\", 50, 90, 120],\n",
    "        [\"Slovakia\", 50, 90, 130],\n",
    "        [\"Slovenia\", 50, 90, 130],\n",
    "        [\"Spain\", 50, 80, 120],\n",
    "        [\"Sweden\", 50, 90, 110],\n",
    "        [\"Switzerland\", 50, 80, 120],\n",
    "        [\"United Kingdom\", 48, 96, 112]\n",
    "    ]\n",
    ")\n",
    "speedLimitData.to_csv('csv_speeding/speed_limit.csv')"
   ]
  },
  {
   "cell_type": "code",
   "execution_count": 11,
   "metadata": {},
   "outputs": [],
   "source": [
    "speedFineData = pd.DataFrame(\n",
    "    columns=[\"Country\", \"fine_city\", \"fine_rural\", \"fine_highway\"],\n",
    "    data = [\n",
    "        [\"Albania\", 20, 20, 20],\n",
    "        [\"Austria\", 50, 50, 50],\n",
    "        [\"Belgium\", 153, 153, 153], # (200 + 105) / 2\n",
    "        [\"Croatia\", 135, 67, 67],\n",
    "        [\"Czech Republic\", 38, 19, 19],\n",
    "        [\"Denmark\", 405, 200, 200],\n",
    "        [\"Estonia\", 400, 200, np.nan],\n",
    "        [\"Finland\", 312, 260, 260],\n",
    "        [\"France\", 90, 90, 90],\n",
    "        [\"Germany\", 80, 70, 70],\n",
    "        [\"Greece\", 100, 100, 100],\n",
    "        [\"Hungary\", 80, 80, 80],\n",
    "        [\"Ireland\", 90, 90, 90],\n",
    "        [\"Italy\", 143, 143, 143],\n",
    "        [\"Kosovo\", 200, 200, 200],\n",
    "        [\"Latvia\", 71, 101, 141],\n",
    "        [\"Lithuania\", 57, 57, 57], # (86 + 28) / 2\n",
    "        [\"Luxembourg\", 49, 49, 49],\n",
    "        [\"Netherlands\", 207, 196, 186],\n",
    "        [\"Norway\", 944, 711, 711],\n",
    "        [\"Poland\", 48, 48, 48],\n",
    "        [\"Portugal\", 360, 180, 180], # (600 + 120) / 2 | (300 + 60) / 2\n",
    "        [\"Slovakia\", 80, 40, 40],\n",
    "        [\"Slovenia\", 250, 80, 80],\n",
    "        [\"Spain\", 150, 50, 50],\n",
    "        [\"Sweden\", 345, 300, 300],\n",
    "        [\"Switzerland\", 560, 374, 243],\n",
    "        [\"United Kingdom\", 95, 95, 95]\n",
    "    ]\n",
    ")\n",
    "speedFineData.to_csv('csv_speeding/speed_fine.csv')"
   ]
  },
  {
   "attachments": {},
   "cell_type": "markdown",
   "metadata": {},
   "source": [
    "Combine all traffic penalties into one fine"
   ]
  },
  {
   "cell_type": "code",
   "execution_count": 12,
   "metadata": {},
   "outputs": [],
   "source": [
    "europeanTrafficIndexData = pd.DataFrame(\n",
    "    columns=[\"Country\", \"fine_71_rural\", \"fine_phone\", \"fine_no_passing\", \"fine_red_light\", \"fine_mean\", \"burger_index\", \"burger_index_PPS\"],\n",
    "    data = [\n",
    "        [\"Albania\",\t20,\t6,\t10,\t10,\t12,\t0.8,\t0.24],\n",
    "        [\"Austria\",\t50,\t50,\t70,\t70,\t60,\t0.38,\t0.29],\n",
    "        [\"Belgium\",\t150,\t110,\t165,\t165,\t148,\t0.92,\t0.78],\n",
    "        [\"Bosnia and Herzegovina\",\t50,\t50,\t50,\t50,\t50,\t0.31,\t1.12],\n",
    "        [\"Bulgaria\",\t25,\t25,\t50,\t33,\t0.21,\t0.44],\n",
    "        [\"Croatia\",\t135,\t65,\t90,\t260,\t138,\t0.86,\t1.49],\n",
    "        [\"Czech Republic\",\t38,\t74,\t200,\t38,\t88,\t0.55,\t0.63],\n",
    "        [\"Denmark\",\t405,\t200,\t270,\t270,\t286,\t1.79,\t1.41],\n",
    "        [\"Estonia\", 400,\t200,\t400,\t800,\t450,\t2.82,\t3.76],\n",
    "        [\"Finland\",\t312,\t76,\t140,\t160,\t172,\t1.08,\t0.99],\n",
    "        [\"France\",\t90,\t90,\t90,\t90,\t90,\t0.59,\t0.55],\n",
    "        [\"Germany\",\t80,\t100,\t30,\t90,\t60,\t0.47,\t0.38],\n",
    "        [\"Greece\",\t100,\t100,\t700,\t700,\t400,\t2.51,\t3.69],\n",
    "        [\"Hungary\",\t94,\t32,\t325,\t156,\t250,\t0.95,\t1.40],\n",
    "        [\"Iceland\",\t300,\t300,\t150,\t220,\t243,\t1.52,\t1.24],\n",
    "        [\"Ireland\",\t80,\t60,\t80,\t80,\t75,\t0.47,\t0.27],\n",
    "        [\"Italy\",\t143,\t160,\t85,\t200,\t147,\t0.92,\t0.96],\n",
    "        [\"Kosovo\",\t60,\t40,\t60,\t150,\t78,\t0.49,\t1.62],\n",
    "        [\"Latvia\",\t160,\t15,\t55,\t40,\t68,\t0.42,\t0.66],\n",
    "        [\"Lithuania\",\t86,\t30,\t115,\t115,\t87,\t0.63,\t0.84],\n",
    "        [\"Luxembourg\",\t49,\t75,\t145,\t145,\t104,\t0.65,\t0.25],\n",
    "        [\"Macedonia\", 45,\t45,\t300,\t130,\t0.81,\t2.26],\n",
    "        [\"Montenegro\",\t60,\t60,\t70,\t63,\t0.40,\t0.95],\n",
    "        [\"Netherlands\",\t207,\t240,\t240,\t240,\t232,\t1.45,\t1.13],\n",
    "        [\"Norway\",\t944,\t184,\t756,\t756,\t660,\t4.14,\t2.59],\n",
    "        [\"Poland\",\t48,\t50,\t60,\t75,\t58,\t0.37,\t0.53],\n",
    "        [\"Portugal\",\t120,\t120,\t120,\t120,\t120,\t0.75,\t0.98],\n",
    "        [\"Rumania\",\t65,\t100,\t65,\t77,\t0.48,\t0.84],\n",
    "        [\"Serbia\",\t25,\t50,\t130,\t68,\t0.43,\t1.19],\n",
    "        [\"Slovakia\",\t80,\t50,\t100,\t150,\t95,\t0.60,\t0.77],\n",
    "        [\"Slovenia\",\t250,\t60,\t250,\t150,\t178,\t1.11,\t1.34],\n",
    "        [\"Spain\",\t150,\t100,\t100,\t100,\t113,\t0.71,\t0.78],\n",
    "        [\"Sweden\",\t335,\t170,\t280,\t314,\t275,\t1.72,\t1.39],\n",
    "        [\"Switzerland\",\t560,\t85,\t245,\t234,\t282,\t1.76,\t1.09],\n",
    "        [\"United Kingdom\",\t118,\t225,\t120,\t85,\t137,\t0.86,\t0.80]\n",
    "    ]\n",
    ")\n",
    "europeanTrafficIndexData.to_csv('csv_speeding/traffic_fine_index.csv')\n"
   ]
  }
 ],
 "metadata": {
  "kernelspec": {
   "display_name": "Python 3",
   "language": "python",
   "name": "python3"
  },
  "language_info": {
   "codemirror_mode": {
    "name": "ipython",
    "version": 3
   },
   "file_extension": ".py",
   "mimetype": "text/x-python",
   "name": "python",
   "nbconvert_exporter": "python",
   "pygments_lexer": "ipython3",
   "version": "3.10.10"
  },
  "orig_nbformat": 4
 },
 "nbformat": 4,
 "nbformat_minor": 2
}
