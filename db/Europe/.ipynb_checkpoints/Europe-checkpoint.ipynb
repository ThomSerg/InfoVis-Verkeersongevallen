{
 "cells": [
  {
   "cell_type": "code",
   "execution_count": 92,
   "id": "5e0a6d64",
   "metadata": {},
   "outputs": [],
   "source": [
    "import pandas as pd\n",
    "import requests\n",
    "from bs4 import BeautifulSoup"
   ]
  },
  {
   "cell_type": "code",
   "execution_count": 93,
   "id": "461fa425",
   "metadata": {},
   "outputs": [],
   "source": [
    "# ROAD Qualities dataset\n",
    "# https://www.theglobaleconomy.com/rankings/roads_quality/Europe/\n",
    "url = \"https://www.theglobaleconomy.com/rankings/roads_quality/Europe/\"\n",
    "response = requests.get(url)\n",
    "soup = BeautifulSoup(response.content, \"html.parser\")"
   ]
  },
  {
   "cell_type": "code",
   "execution_count": 94,
   "id": "eb1c297d",
   "metadata": {},
   "outputs": [],
   "source": [
    "countries = []\n",
    "RoadQuality = []\n",
    "GlobalRank = []\n",
    "year = 2019"
   ]
  },
  {
   "cell_type": "code",
   "execution_count": 102,
   "id": "bcd63b6d",
   "metadata": {},
   "outputs": [],
   "source": [
    "def changeToAndSymbol(text):\n",
    "    new_text = text.replace(\"&amp;\", \"&\")\n",
    "\n",
    "def getCountry(text):\n",
    "    start_str = \"\\\">\"\n",
    "    end_str = \"</a>\"\n",
    "    start_index = text.index(start_str) + len(start_str)\n",
    "    end_index = text.index(end_str)\n",
    "    result = text[start_index:end_index]\n",
    "    result = changeToAndSymbol(result)\n",
    "    print(result)"
   ]
  },
  {
   "cell_type": "code",
   "execution_count": 104,
   "id": "74cd75dc",
   "metadata": {},
   "outputs": [
    {
     "name": "stdout",
     "output_type": "stream",
     "text": [
      "Netherlands\n",
      "Switzerland\n",
      "Austria\n",
      "Portugal\n",
      "Spain\n",
      "Croatia\n",
      "Denmark\n",
      "Luxembourg\n",
      "France\n",
      "Finland\n",
      "Germany\n",
      "Sweden\n",
      "Cyprus\n",
      "Turkey\n",
      "Slovenia\n",
      "UK\n",
      "Lithuania\n",
      "Estonia\n",
      "Greece\n",
      "Norway\n",
      "Belgium\n",
      "Ireland\n",
      "Italy\n",
      "Poland\n",
      "Iceland\n",
      "Hungary\n",
      "Slovakia\n",
      "Albania\n",
      "Czechia\n",
      "Montenegro\n",
      "Latvia\n",
      "Russia\n",
      "Serbia\n",
      "Bulgaria\n",
      "North Macedonia\n",
      "Malta\n",
      "Romania\n",
      "Ukraine\n",
      "Bosnia &amp; Herz.\n",
      "Moldova\n"
     ]
    }
   ],
   "source": [
    "country_data = soup.findAll('table', attrs = {'id': \"benchmarkTable\"})\n",
    "soup = BeautifulSoup(str(country_data), \"html.parser\")\n",
    "\n",
    "rows = soup.select('tr')\n",
    "\n",
    "#print(rows[0])\n",
    "data = []\n",
    "for row in rows[1:]:\n",
    "    test = str(row)\n",
    "    soup2 = BeautifulSoup(test, \"html.parser\")\n",
    "    td_tags = soup2.find_all('td')\n",
    "    getCountry(str(td_tags[0]))\n",
    "    #print(td_tags[0])\n",
    "    #for th in th_tags:\n",
    "     #   print(th.get_text().strip())\n",
    "\n",
    "    #data.append(soup.select(\"th\"))\n",
    "#print(data[1])\n",
    "\n",
    " #   print(row)\n",
    "#country_table = country_data.findAll(\"tr\")\n"
   ]
  },
  {
   "cell_type": "code",
   "execution_count": null,
   "id": "c61bed62",
   "metadata": {},
   "outputs": [],
   "source": []
  },
  {
   "cell_type": "code",
   "execution_count": null,
   "id": "9ca47c0f",
   "metadata": {},
   "outputs": [],
   "source": []
  }
 ],
 "metadata": {
  "kernelspec": {
   "display_name": "Python 3 (ipykernel)",
   "language": "python",
   "name": "python3"
  },
  "language_info": {
   "codemirror_mode": {
    "name": "ipython",
    "version": 3
   },
   "file_extension": ".py",
   "mimetype": "text/x-python",
   "name": "python",
   "nbconvert_exporter": "python",
   "pygments_lexer": "ipython3",
   "version": "3.11.2"
  }
 },
 "nbformat": 4,
 "nbformat_minor": 5
}
