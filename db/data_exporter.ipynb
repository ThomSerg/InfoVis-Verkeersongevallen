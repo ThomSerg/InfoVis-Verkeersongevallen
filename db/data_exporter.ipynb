{
 "cells": [
  {
   "cell_type": "code",
   "execution_count": 1,
   "metadata": {},
   "outputs": [],
   "source": [
    "import pandas as pd\n",
    "import sys\n",
    "import os"
   ]
  },
  {
<<<<<<< HEAD
   "attachments": {},
=======
>>>>>>> 057e093b82b6721c66410096673a4ebe9b6e811b
   "cell_type": "markdown",
   "metadata": {},
   "source": [
    "### TF ACCIDENTS"
   ]
  },
  {
   "cell_type": "code",
   "execution_count": 2,
   "metadata": {},
   "outputs": [],
   "source": [
    "file =('TF_ACCIDENTS_.xlsx')\n",
    "accident_data = pd.read_excel(file)"
   ]
  },
  {
   "cell_type": "code",
   "execution_count": 3,
   "metadata": {},
   "outputs": [],
   "source": [
    "accident_data.to_csv('ACCIDENTS.csv')"
   ]
  },
  {
<<<<<<< HEAD
   "attachments": {},
=======
>>>>>>> 057e093b82b6721c66410096673a4ebe9b6e811b
   "cell_type": "markdown",
   "metadata": {},
   "source": [
    "### TF VEHICLE COLLISION"
   ]
  },
  {
   "cell_type": "code",
   "execution_count": 4,
   "metadata": {},
   "outputs": [],
   "source": [
    "file =('TF_VEHICLES_COLLISION_.xlsx')\n",
    "collision_data = pd.read_excel(file)"
   ]
  },
  {
   "cell_type": "code",
   "execution_count": 5,
   "metadata": {},
   "outputs": [],
   "source": [
    "collision_data.to_csv('COLLISION.csv')"
   ]
<<<<<<< HEAD
=======
  },
  {
   "cell_type": "code",
   "execution_count": null,
   "metadata": {},
   "outputs": [],
   "source": []
>>>>>>> 057e093b82b6721c66410096673a4ebe9b6e811b
  }
 ],
 "metadata": {
  "kernelspec": {
<<<<<<< HEAD
   "display_name": ".venv",
=======
   "display_name": "Python 3 (ipykernel)",
>>>>>>> 057e093b82b6721c66410096673a4ebe9b6e811b
   "language": "python",
   "name": "python3"
  },
  "language_info": {
   "codemirror_mode": {
    "name": "ipython",
    "version": 3
   },
   "file_extension": ".py",
   "mimetype": "text/x-python",
   "name": "python",
   "nbconvert_exporter": "python",
   "pygments_lexer": "ipython3",
   "version": "3.10.10"
  },
  "orig_nbformat": 4
=======
   "version": "3.11.2"
  }
>>>>>>> 057e093b82b6721c66410096673a4ebe9b6e811b
 },
 "nbformat": 4,
 "nbformat_minor": 2
}
